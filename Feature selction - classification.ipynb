{
 "cells": [
  {
   "cell_type": "code",
   "execution_count": 1,
   "id": "5c7305ba",
   "metadata": {},
   "outputs": [],
   "source": [
    "import pandas as pd\n",
    "import numpy as np\n",
    "from sklearn.preprocessing import StandardScaler\n",
    "from sklearn.feature_selection import SelectKBest\n",
    "from sklearn.feature_selection import chi2\n",
    "from sklearn.feature_selection import RFE\n",
    "import pickle\n",
    "import matplotlib.pyplot as plt\n",
    "from sklearn.model_selection import train_test_split"
   ]
  },
  {
   "cell_type": "code",
   "execution_count": 2,
   "id": "151ace3b",
   "metadata": {},
   "outputs": [],
   "source": [
    "dataset=pd.read_csv(\"CKD.csv\")\n",
    "datas=pd.get_dummies(dataset,drop_first=True)\n",
    "independent=datas.drop('classification_yes',1)\n",
    "dependent=datas['classification_yes']"
   ]
  },
  {
   "cell_type": "code",
   "execution_count": 3,
   "id": "79f093c0",
   "metadata": {},
   "outputs": [],
   "source": [
    "def selectkbest(independent,dependent,n):\n",
    "    test=SelectKBest(score_func=chi2,k=n)\n",
    "    fit1=test.fit(independent,dependent)\n",
    "    select_feature=fit1.transform(independent)\n",
    "    return select_feature"
   ]
  },
  {
   "cell_type": "code",
   "execution_count": 4,
   "id": "4b4d727c",
   "metadata": {},
   "outputs": [],
   "source": [
    "def split_scaler(independent,dependent):\n",
    "    X_train,X_test,y_train,y_test=train_test_split(independent,dependent,test_size=0.30,random_state=0)\n",
    "    sc=StandardScaler()\n",
    "    X_train=sc.fit_transform(X_train)\n",
    "    X_test=sc.transform(X_test)\n",
    "    return X_train,X_test,y_train,y_test"
   ]
  },
  {
   "cell_type": "code",
   "execution_count": 24,
   "id": "b873264f",
   "metadata": {},
   "outputs": [],
   "source": [
    "def cm_pred(classifier,X_test):\n",
    "    y_pred=classifier.predict(X_test)\n",
    "    from sklearn.metrics import confusion_matrix\n",
    "    cm=confusion_matrix(y_test,y_pred)\n",
    "    from sklearn.metrics import accuracy_score\n",
    "    accurancy=accuracy_score(y_test,y_pred)\n",
    "    from sklearn.metrics import classification_report\n",
    "    report=classification_report(y_test,y_pred)\n",
    "    print(accurancy)\n",
    "    return classifier,cm,accurancy,report,X_test,y_test\n",
    "\n"
   ]
  },
  {
   "cell_type": "code",
   "execution_count": 25,
   "id": "78088bfb",
   "metadata": {},
   "outputs": [],
   "source": [
    "def logistic(X_train,y_train,X_test):\n",
    "    from sklearn.linear_model import LogisticRegression\n",
    "    classifier=LogisticRegression(random_state = 0)  \n",
    "    classifier.fit(X_train,y_train)\n",
    "    #classifier,accurancy,report,X_test,y_test,cm=cm_pred(classifier,X_test)\n",
    "    classifier,accuracy,report,X_test,y_test,cm=cm_pred(classifier,X_test)\n",
    "    return classifier,accuracy,report,X_test,y_test,cm"
   ]
  },
  {
   "cell_type": "code",
   "execution_count": 35,
   "id": "1b7705ea",
   "metadata": {},
   "outputs": [],
   "source": [
    "def navi(X_train,y_train,X_test):       \n",
    "        # Fitting K-NN to the Training set\n",
    "        from sklearn.naive_bayes import GaussianNB\n",
    "        classifier = GaussianNB()\n",
    "        classifier.fit(X_train, y_train)\n",
    "        classifier,accuracy,report,X_test,y_test,cm=cm_pred(classifier,X_test)\n",
    "        return classifier,accuracy,report,X_test,y_test,cm      \n",
    "    "
   ]
  },
  {
   "cell_type": "code",
   "execution_count": 36,
   "id": "1feaf171",
   "metadata": {},
   "outputs": [],
   "source": [
    "def knn(X_train,y_train,X_test):\n",
    "    from sklearn.neighbors import KNeighborsClassifier\n",
    "    classifier=KNeighborsClassifier(n_neighbors = 5, metric = 'minkowski', p = 2)  \n",
    "    classifier.fit(X_train,y_train)\n",
    "    classifier,accuracy,report,X_test,y_test,cm=cm_pred(classifier,X_test)\n",
    "    return classifier,accuracy,report,X_test,y_test,cm"
   ]
  },
  {
   "cell_type": "code",
   "execution_count": 37,
   "id": "a6ac7f57",
   "metadata": {},
   "outputs": [],
   "source": [
    "def decision(X_train,y_train,X_test):\n",
    "    from sklearn.tree import DecisionTreeClassifier\n",
    "    classifier=DecisionTreeClassifier(criterion = 'entropy', random_state = 0)\n",
    "    classifier.fit(X_train,y_train)\n",
    "    classifier,accuracy,report,X_test,y_test,cm=cm_pred(classifier,X_test)\n",
    "    return classifier,accuracy,report,X_test,y_test,cm"
   ]
  },
  {
   "cell_type": "code",
   "execution_count": 38,
   "id": "83f55ade",
   "metadata": {},
   "outputs": [],
   "source": [
    "def random(X_train,y_train,X_test):\n",
    "    from sklearn.ensemble import RandomForestClassifier\n",
    "    classifier=RandomForestClassifier(n_estimators = 10,criterion = 'entropy', random_state = 0)\n",
    "    classifier.fit(X_train,y_train)\n",
    "    classifier,accuracy,report,X_test,y_test,cm=cm_pred(classifier,X_test)\n",
    "    return classifier,accuracy,report,X_test,y_test,cm"
   ]
  },
  {
   "cell_type": "code",
   "execution_count": 39,
   "id": "8c4e6cfe",
   "metadata": {},
   "outputs": [],
   "source": [
    "def selectk_classi(acclog,accnavi,accknn,accdeci,accrf):\n",
    "    dataframe=pd.DataFrame(index=['chi2'],columns=['logistic','navi','knn','decision','random'])\n",
    "    for number,idex in enumerate(dataframe.index):\n",
    "        dataframe['logistic'][idex]=acclog[number]\n",
    "        dataframe['navi'][idex]=accnavi[number]\n",
    "        dataframe['knn'][idex]=accknn[number]\n",
    "        dataframe['decision'][idex]=accdeci[number]\n",
    "        dataframe['random'][idex]=accrf[number]\n",
    "    return dataframe"
   ]
  },
  {
   "cell_type": "code",
   "execution_count": 73,
   "id": "4c86b61f",
   "metadata": {},
   "outputs": [],
   "source": [
    "kbest=selectkbest(independent,dependent,9) \n",
    "acclog=[]\n",
    "accnavi=[]\n",
    "accknn=[]\n",
    "accdeci=[]\n",
    "accrf=[]"
   ]
  },
  {
   "cell_type": "code",
   "execution_count": 74,
   "id": "10a210e0",
   "metadata": {},
   "outputs": [
    {
     "data": {
      "text/plain": [
       "array([[2.00000000e+00, 3.00000000e+00, 0.00000000e+00, ...,\n",
       "        1.25181556e+01, 3.88689024e+01, 8.40819113e+03],\n",
       "       [3.00000000e+00, 2.00000000e+00, 0.00000000e+00, ...,\n",
       "        1.07000000e+01, 3.40000000e+01, 1.23000000e+04],\n",
       "       [4.00000000e+00, 1.00000000e+00, 0.00000000e+00, ...,\n",
       "        1.20000000e+01, 3.40000000e+01, 8.40819113e+03],\n",
       "       ...,\n",
       "       [5.14923077e+01, 3.00000000e+00, 0.00000000e+00, ...,\n",
       "        9.10000000e+00, 2.60000000e+01, 9.20000000e+03],\n",
       "       [5.14923077e+01, 0.00000000e+00, 0.00000000e+00, ...,\n",
       "        8.50000000e+00, 3.88689024e+01, 8.40819113e+03],\n",
       "       [5.14923077e+01, 0.00000000e+00, 0.00000000e+00, ...,\n",
       "        1.63000000e+01, 5.30000000e+01, 8.50000000e+03]])"
      ]
     },
     "execution_count": 74,
     "metadata": {},
     "output_type": "execute_result"
    }
   ],
   "source": [
    "kbest"
   ]
  },
  {
   "cell_type": "code",
   "execution_count": 75,
   "id": "f8070905",
   "metadata": {},
   "outputs": [
    {
     "name": "stdout",
     "output_type": "stream",
     "text": [
      "0.9666666666666667\n",
      "0.875\n",
      "0.9833333333333333\n",
      "0.95\n",
      "0.9833333333333333\n"
     ]
    },
    {
     "name": "stderr",
     "output_type": "stream",
     "text": [
      "C:\\Users\\Priya\\Anaconda3\\envs\\aiml\\lib\\site-packages\\sklearn\\linear_model\\logistic.py:432: FutureWarning: Default solver will be changed to 'lbfgs' in 0.22. Specify a solver to silence this warning.\n",
      "  FutureWarning)\n",
      "C:\\Users\\Priya\\Anaconda3\\envs\\aiml\\lib\\site-packages\\sklearn\\neighbors\\base.py:441: DeprecationWarning: distutils Version classes are deprecated. Use packaging.version instead.\n",
      "  old_joblib = LooseVersion(joblib_version) < LooseVersion('0.12')\n",
      "C:\\Users\\Priya\\Anaconda3\\envs\\aiml\\lib\\site-packages\\sklearn\\neighbors\\base.py:441: DeprecationWarning: distutils Version classes are deprecated. Use packaging.version instead.\n",
      "  old_joblib = LooseVersion(joblib_version) < LooseVersion('0.12')\n",
      "C:\\Users\\Priya\\Anaconda3\\envs\\aiml\\lib\\site-packages\\sklearn\\utils\\fixes.py:230: DeprecationWarning: distutils Version classes are deprecated. Use packaging.version instead.\n",
      "  if _joblib.__version__ >= LooseVersion('0.12'):\n",
      "C:\\Users\\Priya\\Anaconda3\\envs\\aiml\\lib\\site-packages\\sklearn\\utils\\fixes.py:230: DeprecationWarning: distutils Version classes are deprecated. Use packaging.version instead.\n",
      "  if _joblib.__version__ >= LooseVersion('0.12'):\n"
     ]
    }
   ],
   "source": [
    "X_train, X_test, y_train, y_test=split_scaler(kbest,dependent)\n",
    "classifier,report,accurancy,cm,X_test,y_test=logistic(X_train,y_train,X_test)\n",
    "acclog.append(accurancy)\n",
    "classifier,report,accurancy,cm,X_test,y_test=navi(X_train,y_train,X_test)\n",
    "accnavi.append(accurancy)\n",
    "classifier,report,accurancy,cm,X_test,y_test=knn(X_train,y_train,X_test)\n",
    "accknn.append(accurancy)\n",
    "classifier,report,accurancy,cm,X_test,y_test=decision(X_train,y_train,X_test)\n",
    "accdeci.append(accurancy)\n",
    "classifier,report,accurancy,cm,X_test,y_test=random(X_train,y_train,X_test)\n",
    "accrf.append(accurancy)"
   ]
  },
  {
   "cell_type": "code",
   "execution_count": 76,
   "id": "8c707ec0",
   "metadata": {},
   "outputs": [],
   "source": [
    "result=selectk_classi(acclog,accnavi,accknn,accdeci,accrf)"
   ]
  },
  {
   "cell_type": "code",
   "execution_count": 47,
   "id": "ca354773",
   "metadata": {},
   "outputs": [
    {
     "data": {
      "text/html": [
       "<div>\n",
       "<style scoped>\n",
       "    .dataframe tbody tr th:only-of-type {\n",
       "        vertical-align: middle;\n",
       "    }\n",
       "\n",
       "    .dataframe tbody tr th {\n",
       "        vertical-align: top;\n",
       "    }\n",
       "\n",
       "    .dataframe thead th {\n",
       "        text-align: right;\n",
       "    }\n",
       "</style>\n",
       "<table border=\"1\" class=\"dataframe\">\n",
       "  <thead>\n",
       "    <tr style=\"text-align: right;\">\n",
       "      <th></th>\n",
       "      <th>logistic</th>\n",
       "      <th>navi</th>\n",
       "      <th>knn</th>\n",
       "      <th>decision</th>\n",
       "      <th>random</th>\n",
       "    </tr>\n",
       "  </thead>\n",
       "  <tbody>\n",
       "    <tr>\n",
       "      <th>chi2</th>\n",
       "      <td>0.958333</td>\n",
       "      <td>0.891667</td>\n",
       "      <td>0.933333</td>\n",
       "      <td>0.95</td>\n",
       "      <td>0.983333</td>\n",
       "    </tr>\n",
       "  </tbody>\n",
       "</table>\n",
       "</div>"
      ],
      "text/plain": [
       "      logistic      navi       knn decision    random\n",
       "chi2  0.958333  0.891667  0.933333     0.95  0.983333"
      ]
     },
     "execution_count": 47,
     "metadata": {},
     "output_type": "execute_result"
    }
   ],
   "source": [
    "result\n",
    "#6"
   ]
  },
  {
   "cell_type": "code",
   "execution_count": 52,
   "id": "b375bcbb",
   "metadata": {},
   "outputs": [
    {
     "data": {
      "text/html": [
       "<div>\n",
       "<style scoped>\n",
       "    .dataframe tbody tr th:only-of-type {\n",
       "        vertical-align: middle;\n",
       "    }\n",
       "\n",
       "    .dataframe tbody tr th {\n",
       "        vertical-align: top;\n",
       "    }\n",
       "\n",
       "    .dataframe thead th {\n",
       "        text-align: right;\n",
       "    }\n",
       "</style>\n",
       "<table border=\"1\" class=\"dataframe\">\n",
       "  <thead>\n",
       "    <tr style=\"text-align: right;\">\n",
       "      <th></th>\n",
       "      <th>logistic</th>\n",
       "      <th>navi</th>\n",
       "      <th>knn</th>\n",
       "      <th>decision</th>\n",
       "      <th>random</th>\n",
       "    </tr>\n",
       "  </thead>\n",
       "  <tbody>\n",
       "    <tr>\n",
       "      <th>chi2</th>\n",
       "      <td>0.941667</td>\n",
       "      <td>0.841667</td>\n",
       "      <td>0.908333</td>\n",
       "      <td>0.958333</td>\n",
       "      <td>0.958333</td>\n",
       "    </tr>\n",
       "  </tbody>\n",
       "</table>\n",
       "</div>"
      ],
      "text/plain": [
       "      logistic      navi       knn  decision    random\n",
       "chi2  0.941667  0.841667  0.908333  0.958333  0.958333"
      ]
     },
     "execution_count": 52,
     "metadata": {},
     "output_type": "execute_result"
    }
   ],
   "source": [
    "result\n",
    "#5"
   ]
  },
  {
   "cell_type": "code",
   "execution_count": 57,
   "id": "2e667a03",
   "metadata": {},
   "outputs": [
    {
     "data": {
      "text/html": [
       "<div>\n",
       "<style scoped>\n",
       "    .dataframe tbody tr th:only-of-type {\n",
       "        vertical-align: middle;\n",
       "    }\n",
       "\n",
       "    .dataframe tbody tr th {\n",
       "        vertical-align: top;\n",
       "    }\n",
       "\n",
       "    .dataframe thead th {\n",
       "        text-align: right;\n",
       "    }\n",
       "</style>\n",
       "<table border=\"1\" class=\"dataframe\">\n",
       "  <thead>\n",
       "    <tr style=\"text-align: right;\">\n",
       "      <th></th>\n",
       "      <th>logistic</th>\n",
       "      <th>navi</th>\n",
       "      <th>knn</th>\n",
       "      <th>decision</th>\n",
       "      <th>random</th>\n",
       "    </tr>\n",
       "  </thead>\n",
       "  <tbody>\n",
       "    <tr>\n",
       "      <th>chi2</th>\n",
       "      <td>0.85</td>\n",
       "      <td>0.791667</td>\n",
       "      <td>0.858333</td>\n",
       "      <td>0.891667</td>\n",
       "      <td>0.908333</td>\n",
       "    </tr>\n",
       "  </tbody>\n",
       "</table>\n",
       "</div>"
      ],
      "text/plain": [
       "     logistic      navi       knn  decision    random\n",
       "chi2     0.85  0.791667  0.858333  0.891667  0.908333"
      ]
     },
     "execution_count": 57,
     "metadata": {},
     "output_type": "execute_result"
    }
   ],
   "source": [
    "result\n",
    "#4"
   ]
  },
  {
   "cell_type": "code",
   "execution_count": 62,
   "id": "b28da0ed",
   "metadata": {},
   "outputs": [
    {
     "data": {
      "text/html": [
       "<div>\n",
       "<style scoped>\n",
       "    .dataframe tbody tr th:only-of-type {\n",
       "        vertical-align: middle;\n",
       "    }\n",
       "\n",
       "    .dataframe tbody tr th {\n",
       "        vertical-align: top;\n",
       "    }\n",
       "\n",
       "    .dataframe thead th {\n",
       "        text-align: right;\n",
       "    }\n",
       "</style>\n",
       "<table border=\"1\" class=\"dataframe\">\n",
       "  <thead>\n",
       "    <tr style=\"text-align: right;\">\n",
       "      <th></th>\n",
       "      <th>logistic</th>\n",
       "      <th>navi</th>\n",
       "      <th>knn</th>\n",
       "      <th>decision</th>\n",
       "      <th>random</th>\n",
       "    </tr>\n",
       "  </thead>\n",
       "  <tbody>\n",
       "    <tr>\n",
       "      <th>chi2</th>\n",
       "      <td>0.966667</td>\n",
       "      <td>0.916667</td>\n",
       "      <td>0.958333</td>\n",
       "      <td>0.966667</td>\n",
       "      <td>0.983333</td>\n",
       "    </tr>\n",
       "  </tbody>\n",
       "</table>\n",
       "</div>"
      ],
      "text/plain": [
       "      logistic      navi       knn  decision    random\n",
       "chi2  0.966667  0.916667  0.958333  0.966667  0.983333"
      ]
     },
     "execution_count": 62,
     "metadata": {},
     "output_type": "execute_result"
    }
   ],
   "source": [
    "result\n",
    "#7"
   ]
  },
  {
   "cell_type": "code",
   "execution_count": 67,
   "id": "da9d165c",
   "metadata": {},
   "outputs": [
    {
     "data": {
      "text/html": [
       "<div>\n",
       "<style scoped>\n",
       "    .dataframe tbody tr th:only-of-type {\n",
       "        vertical-align: middle;\n",
       "    }\n",
       "\n",
       "    .dataframe tbody tr th {\n",
       "        vertical-align: top;\n",
       "    }\n",
       "\n",
       "    .dataframe thead th {\n",
       "        text-align: right;\n",
       "    }\n",
       "</style>\n",
       "<table border=\"1\" class=\"dataframe\">\n",
       "  <thead>\n",
       "    <tr style=\"text-align: right;\">\n",
       "      <th></th>\n",
       "      <th>logistic</th>\n",
       "      <th>navi</th>\n",
       "      <th>knn</th>\n",
       "      <th>decision</th>\n",
       "      <th>random</th>\n",
       "    </tr>\n",
       "  </thead>\n",
       "  <tbody>\n",
       "    <tr>\n",
       "      <th>chi2</th>\n",
       "      <td>0.966667</td>\n",
       "      <td>0.916667</td>\n",
       "      <td>0.983333</td>\n",
       "      <td>0.95</td>\n",
       "      <td>0.975</td>\n",
       "    </tr>\n",
       "  </tbody>\n",
       "</table>\n",
       "</div>"
      ],
      "text/plain": [
       "      logistic      navi       knn decision random\n",
       "chi2  0.966667  0.916667  0.983333     0.95  0.975"
      ]
     },
     "execution_count": 67,
     "metadata": {},
     "output_type": "execute_result"
    }
   ],
   "source": [
    "result\n",
    "#8"
   ]
  },
  {
   "cell_type": "code",
   "execution_count": 72,
   "id": "7ccb8875",
   "metadata": {},
   "outputs": [
    {
     "data": {
      "text/html": [
       "<div>\n",
       "<style scoped>\n",
       "    .dataframe tbody tr th:only-of-type {\n",
       "        vertical-align: middle;\n",
       "    }\n",
       "\n",
       "    .dataframe tbody tr th {\n",
       "        vertical-align: top;\n",
       "    }\n",
       "\n",
       "    .dataframe thead th {\n",
       "        text-align: right;\n",
       "    }\n",
       "</style>\n",
       "<table border=\"1\" class=\"dataframe\">\n",
       "  <thead>\n",
       "    <tr style=\"text-align: right;\">\n",
       "      <th></th>\n",
       "      <th>logistic</th>\n",
       "      <th>navi</th>\n",
       "      <th>knn</th>\n",
       "      <th>decision</th>\n",
       "      <th>random</th>\n",
       "    </tr>\n",
       "  </thead>\n",
       "  <tbody>\n",
       "    <tr>\n",
       "      <th>chi2</th>\n",
       "      <td>0.8</td>\n",
       "      <td>0.783333</td>\n",
       "      <td>0.833333</td>\n",
       "      <td>0.883333</td>\n",
       "      <td>0.85</td>\n",
       "    </tr>\n",
       "  </tbody>\n",
       "</table>\n",
       "</div>"
      ],
      "text/plain": [
       "     logistic      navi       knn  decision random\n",
       "chi2      0.8  0.783333  0.833333  0.883333   0.85"
      ]
     },
     "execution_count": 72,
     "metadata": {},
     "output_type": "execute_result"
    }
   ],
   "source": [
    "result\n",
    "#3"
   ]
  },
  {
   "cell_type": "code",
   "execution_count": 77,
   "id": "59cb7ede",
   "metadata": {},
   "outputs": [
    {
     "data": {
      "text/html": [
       "<div>\n",
       "<style scoped>\n",
       "    .dataframe tbody tr th:only-of-type {\n",
       "        vertical-align: middle;\n",
       "    }\n",
       "\n",
       "    .dataframe tbody tr th {\n",
       "        vertical-align: top;\n",
       "    }\n",
       "\n",
       "    .dataframe thead th {\n",
       "        text-align: right;\n",
       "    }\n",
       "</style>\n",
       "<table border=\"1\" class=\"dataframe\">\n",
       "  <thead>\n",
       "    <tr style=\"text-align: right;\">\n",
       "      <th></th>\n",
       "      <th>logistic</th>\n",
       "      <th>navi</th>\n",
       "      <th>knn</th>\n",
       "      <th>decision</th>\n",
       "      <th>random</th>\n",
       "    </tr>\n",
       "  </thead>\n",
       "  <tbody>\n",
       "    <tr>\n",
       "      <th>chi2</th>\n",
       "      <td>0.966667</td>\n",
       "      <td>0.875</td>\n",
       "      <td>0.983333</td>\n",
       "      <td>0.95</td>\n",
       "      <td>0.983333</td>\n",
       "    </tr>\n",
       "  </tbody>\n",
       "</table>\n",
       "</div>"
      ],
      "text/plain": [
       "      logistic   navi       knn decision    random\n",
       "chi2  0.966667  0.875  0.983333     0.95  0.983333"
      ]
     },
     "execution_count": 77,
     "metadata": {},
     "output_type": "execute_result"
    }
   ],
   "source": [
    "result\n",
    "#9"
   ]
  },
  {
   "cell_type": "code",
   "execution_count": null,
   "id": "a763ceab",
   "metadata": {},
   "outputs": [],
   "source": []
  }
 ],
 "metadata": {
  "kernelspec": {
   "display_name": "Python 3 (ipykernel)",
   "language": "python",
   "name": "python3"
  },
  "language_info": {
   "codemirror_mode": {
    "name": "ipython",
    "version": 3
   },
   "file_extension": ".py",
   "mimetype": "text/x-python",
   "name": "python",
   "nbconvert_exporter": "python",
   "pygments_lexer": "ipython3",
   "version": "3.7.6"
  }
 },
 "nbformat": 4,
 "nbformat_minor": 5
}
